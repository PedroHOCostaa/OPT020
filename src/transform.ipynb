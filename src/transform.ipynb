{
 "cells": [
  {
   "cell_type": "code",
   "execution_count": 4,
   "metadata": {},
   "outputs": [
    {
     "name": "stdout",
     "output_type": "stream",
     "text": [
      "(45499, 8)\n",
      "(372286, 8)\n",
      "(149649, 8)\n",
      "(564184, 8)\n"
     ]
    }
   ],
   "source": [
    "import numpy as np\n",
    "\n",
    "file1 = '../dataset/OpenBCI-RAW-2023-10-04_17-12-22.txt'\n",
    "\n",
    "file2 = '../dataset/OpenBCI-RAW-2023-10-25_17-43-36.txt'\n",
    "\n",
    "file3 = '../dataset/OpenBCI-RAW-2023-11-14_17-25-16.txt'\n",
    "\n",
    "data1 = np.loadtxt(file1, dtype=float, delimiter=',', skiprows=5, usecols=range(1,9))\n",
    "print(data1.shape)\n",
    "\n",
    "data2 = np.loadtxt(file2, dtype=float, delimiter=',', skiprows=5, usecols=range(1,9))\n",
    "print(data2.shape)\n",
    "\n",
    "data3 = np.loadtxt(file3, dtype=float, delimiter=',', skiprows=5, usecols=range(1,9))\n",
    "print(data3.shape)\n",
    "\n",
    "\n",
    "\n",
    "data12 = np.concatenate((data1[500:,:], data2[500:-1750,:]), axis=0)\n",
    "data123 = np.concatenate((data12, data3[500:,:]), axis=0)\n",
    "\n",
    "print(data123.shape)\n",
    "\n",
    "np.save('../dataset/combined_data.npy', data123)\n",
    "np.savetxt('../dataset/combined_data.csv', data123, delimiter=',')"
   ]
  },
  {
   "cell_type": "code",
   "execution_count": 3,
   "metadata": {},
   "outputs": [
    {
     "name": "stdout",
     "output_type": "stream",
     "text": [
      "jj n fale merda\n"
     ]
    }
   ],
   "source": []
  },
  {
   "cell_type": "code",
   "execution_count": 25,
   "metadata": {},
   "outputs": [
    {
     "name": "stdout",
     "output_type": "stream",
     "text": [
      "10\n"
     ]
    }
   ],
   "source": [
    "print(a)\n"
   ]
  },
  {
   "cell_type": "code",
   "execution_count": 24,
   "metadata": {},
   "outputs": [],
   "source": [
    "a =10"
   ]
  },
  {
   "cell_type": "code",
   "execution_count": 16,
   "metadata": {},
   "outputs": [],
   "source": [
    "a = 'pedro'\n"
   ]
  },
  {
   "cell_type": "code",
   "execution_count": 21,
   "metadata": {},
   "outputs": [
    {
     "name": "stdout",
     "output_type": "stream",
     "text": [
      "10\n"
     ]
    }
   ],
   "source": [
    "print(a)"
   ]
  },
  {
   "cell_type": "code",
   "execution_count": null,
   "metadata": {},
   "outputs": [],
   "source": []
  },
  {
   "cell_type": "code",
   "execution_count": null,
   "metadata": {},
   "outputs": [],
   "source": []
  }
 ],
 "metadata": {
  "kernelspec": {
   "display_name": "local",
   "language": "python",
   "name": "python3"
  },
  "language_info": {
   "codemirror_mode": {
    "name": "ipython",
    "version": 3
   },
   "file_extension": ".py",
   "mimetype": "text/x-python",
   "name": "python",
   "nbconvert_exporter": "python",
   "pygments_lexer": "ipython3",
   "version": "3.10.12"
  }
 },
 "nbformat": 4,
 "nbformat_minor": 2
}
