{
 "cells": [
  {
   "cell_type": "code",
   "execution_count": 1,
   "metadata": {},
   "outputs": [
    {
     "name": "stdout",
     "output_type": "stream",
     "text": [
      "(45499, 8)\n",
      "(372286, 8)\n",
      "(149649, 8)\n",
      "(564184, 8)\n"
     ]
    }
   ],
   "source": [
    "import numpy as np\n",
    "\n",
    "file1 = '../dataset/OpenBCI-RAW-2023-10-04_17-12-22.txt'\n",
    "\n",
    "file2 = '../dataset/OpenBCI-RAW-2023-10-25_17-43-36.txt'\n",
    "\n",
    "file3 = '../dataset/OpenBCI-RAW-2023-11-14_17-25-16.txt'\n",
    "\n",
    "data1 = np.loadtxt(file1, dtype=float, delimiter=',', skiprows=5, usecols=range(1,9))\n",
    "print(data1.shape)\n",
    "\n",
    "data2 = np.loadtxt(file2, dtype=float, delimiter=',', skiprows=5, usecols=range(1,9))\n",
    "print(data2.shape)\n",
    "\n",
    "data3 = np.loadtxt(file3, dtype=float, delimiter=',', skiprows=5, usecols=range(1,9))\n",
    "print(data3.shape)\n",
    "\n",
    "\n",
    "\n",
    "data12 = np.concatenate((data1[500:,:], data2[500:-1750,:]), axis=0)\n",
    "data123 = np.concatenate((data12, data3[500:,:]), axis=0)\n",
    "\n",
    "print(data123.shape)\n",
    "\n",
    "np.save('../data.npy', data123)\n"
   ]
  }
 ],
 "metadata": {
  "kernelspec": {
   "display_name": "local",
   "language": "python",
   "name": "python3"
  },
  "language_info": {
   "codemirror_mode": {
    "name": "ipython",
    "version": 3
   },
   "file_extension": ".py",
   "mimetype": "text/x-python",
   "name": "python",
   "nbconvert_exporter": "python",
   "pygments_lexer": "ipython3",
   "version": "3.10.12"
  }
 },
 "nbformat": 4,
 "nbformat_minor": 2
}
